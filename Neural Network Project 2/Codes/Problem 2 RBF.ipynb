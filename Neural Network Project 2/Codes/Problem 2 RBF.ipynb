{
  "nbformat": 4,
  "nbformat_minor": 0,
  "metadata": {
    "colab": {
      "provenance": []
    },
    "kernelspec": {
      "name": "python3",
      "display_name": "Python 3"
    },
    "language_info": {
      "name": "python"
    }
  },
  "cells": [
    {
      "cell_type": "markdown",
      "source": [
        "#Implementing RBF Network for Wine Classification\n",
        "\n",
        "This notebook code demonstrates the implementation of a Radial Basis Function (RBF) network for classifying the Wine dataset. It involves several steps, including data loading, preprocessing, RBF feature extraction, model training, and evaluation. Below, we provide a detailed explanation of each section:"
      ],
      "metadata": {
        "id": "te9ZwQwxzyxU"
      }
    },
    {
      "cell_type": "markdown",
      "source": [
        "## 1. Import Necessary Libraries"
      ],
      "metadata": {
        "id": "TON0NWOB0IWJ"
      }
    },
    {
      "cell_type": "code",
      "execution_count": 1,
      "metadata": {
        "id": "iS2Gz-mUzw29"
      },
      "outputs": [],
      "source": [
        "# The code begins by importing the required libraries, including NumPy for numerical operations, scikit-learn functions for dataset loading, splitting, and evaluation,\n",
        "# and the LogisticRegression model for classification.\n",
        "\n",
        "import numpy as np\n",
        "from sklearn.datasets import load_wine\n",
        "from sklearn.model_selection import train_test_split\n",
        "from sklearn.preprocessing import StandardScaler\n",
        "from sklearn.metrics import accuracy_score\n",
        "from sklearn.linear_model import LogisticRegression"
      ]
    },
    {
      "cell_type": "markdown",
      "source": [
        "# 2. Load the Wine Dataset"
      ],
      "metadata": {
        "id": "u3ZQjtmV00oS"
      }
    },
    {
      "cell_type": "code",
      "source": [
        "# Here, the Wine dataset is loaded using scikit-learn's load_wine() function, and the feature data is stored in X, while the target labels are stored in y.\n",
        "\n",
        "data = load_wine()\n",
        "X, y = data.data, data.target"
      ],
      "metadata": {
        "id": "70Fde3vL03GQ"
      },
      "execution_count": 2,
      "outputs": []
    },
    {
      "cell_type": "markdown",
      "source": [
        "# 3. Split the Dataset"
      ],
      "metadata": {
        "id": "g1k2-xWf1GXi"
      }
    },
    {
      "cell_type": "code",
      "source": [
        "# Here you need to split the data set into training and test sets using the train_test_split function.\n",
        "# 80% of the data is used for training (X_train and y_train) and 20% for testing (X_test and y_test).\n",
        "\n",
        "##################################\n",
        "X_train, X_test, y_train, y_test = train_test_split(X, y, test_size=0.2, random_state=42)\n",
        "##################################\n",
        "# X_train, X_test, y_train, y_test = ..."
      ],
      "metadata": {
        "id": "ADSZ4GQz1KnS"
      },
      "execution_count": 3,
      "outputs": []
    },
    {
      "cell_type": "markdown",
      "source": [
        "# 4. Standardize Features"
      ],
      "metadata": {
        "id": "Fws5Cs4H1492"
      }
    },
    {
      "cell_type": "code",
      "source": [
        "# Standardization is essential for RBF networks because it makes the data suitable for processing.\n",
        "# Therefore, we need to make sure that they have a mean of 0 and a standard deviation of 1.\n",
        "\n",
        "scaler = StandardScaler()\n",
        "X_train = scaler.fit_transform(X_train)\n",
        "X_test = scaler.transform(X_test)"
      ],
      "metadata": {
        "id": "AXYJ-DVJ16QY"
      },
      "execution_count": 4,
      "outputs": []
    },
    {
      "cell_type": "markdown",
      "source": [
        "# 5. Define RBF Centers"
      ],
      "metadata": {
        "id": "0k9j3Ki42biA"
      }
    },
    {
      "cell_type": "code",
      "source": [
        "# In this section, the number of RBF centers is defined as num_centers. These centers are selected randomly from the training data and are stored in the centers array.\n",
        "# The rbf_gamma parameter sets the scale for the RBF activations.\n",
        "\n",
        "num_centers = 7\n",
        "rbf_gamma = 2\n",
        "centers = X_train[np.random.choice(X_train.shape[0], num_centers, replace=False)]"
      ],
      "metadata": {
        "id": "DpomwSzU2eY3"
      },
      "execution_count": 5,
      "outputs": []
    },
    {
      "cell_type": "markdown",
      "source": [
        "# 6. Define RBF Kernel Function"
      ],
      "metadata": {
        "id": "NbuQeiMO2766"
      }
    },
    {
      "cell_type": "code",
      "source": [
        "# In this function, the Gaussian activation function (RBF) is calculated between the data point x and the centers of the RBF.\n",
        "# Please complete kernel\n",
        "\n",
        "def rbf_kernel(x, centers, gamma = 1):\n",
        "    ##################################\n",
        "    # you code here\n",
        "    ##################################\n",
        "    rbf = np.exp(-gamma * np.linalg.norm(x - centers, axis=1) ** 2)\n",
        "    return rbf"
      ],
      "metadata": {
        "id": "BXz-c45r29d3"
      },
      "execution_count": 9,
      "outputs": []
    },
    {
      "cell_type": "markdown",
      "source": [
        "# 7. Calculate RBF Activations"
      ],
      "metadata": {
        "id": "MxTperOo4BG-"
      }
    },
    {
      "cell_type": "code",
      "source": [
        "# In this function, RBF is calculated for the input data according to rbf_gamma and center values and is returned as a matrix.\n",
        "# Please complete the function.\n",
        "\n",
        "def calculate_rbf(X, centers, rbf_gamma=1):\n",
        "    num_samples = len(X)\n",
        "    num_centers = len(centers)\n",
        "    rbf_features = np.zeros((num_samples, num_centers))\n",
        "\n",
        "    ##################################\n",
        "    # you code here\n",
        "    ##################################\n",
        "    for i in range(num_samples):\n",
        "        rbf_features[i] = rbf_kernel(X[i], centers, rbf_gamma)\n",
        "\n",
        "    return rbf_features"
      ],
      "metadata": {
        "id": "X9OAdZmr5cVA"
      },
      "execution_count": 12,
      "outputs": []
    },
    {
      "cell_type": "markdown",
      "source": [
        "# 8. Create and Train a Classifier"
      ],
      "metadata": {
        "id": "G3lvPvXi5Ukx"
      }
    },
    {
      "cell_type": "code",
      "source": [
        "# A Logistic Regression classifier is created and trained using the RBF from the training data.\n",
        "rbf_gamma = 2\n",
        "rbf_train = calculate_rbf(X_train, centers, rbf_gamma)\n",
        "\n",
        "clf = LogisticRegression(max_iter=10000)\n",
        "clf.fit(rbf_train, y_train)"
      ],
      "metadata": {
        "id": "dAuEwbUs5c6g",
        "colab": {
          "base_uri": "https://localhost:8080/",
          "height": 75
        },
        "outputId": "98e01556-4ea8-4f29-fe7b-26ca15de5548"
      },
      "execution_count": 13,
      "outputs": [
        {
          "output_type": "execute_result",
          "data": {
            "text/plain": [
              "LogisticRegression(max_iter=10000)"
            ],
            "text/html": [
              "<style>#sk-container-id-1 {color: black;background-color: white;}#sk-container-id-1 pre{padding: 0;}#sk-container-id-1 div.sk-toggleable {background-color: white;}#sk-container-id-1 label.sk-toggleable__label {cursor: pointer;display: block;width: 100%;margin-bottom: 0;padding: 0.3em;box-sizing: border-box;text-align: center;}#sk-container-id-1 label.sk-toggleable__label-arrow:before {content: \"▸\";float: left;margin-right: 0.25em;color: #696969;}#sk-container-id-1 label.sk-toggleable__label-arrow:hover:before {color: black;}#sk-container-id-1 div.sk-estimator:hover label.sk-toggleable__label-arrow:before {color: black;}#sk-container-id-1 div.sk-toggleable__content {max-height: 0;max-width: 0;overflow: hidden;text-align: left;background-color: #f0f8ff;}#sk-container-id-1 div.sk-toggleable__content pre {margin: 0.2em;color: black;border-radius: 0.25em;background-color: #f0f8ff;}#sk-container-id-1 input.sk-toggleable__control:checked~div.sk-toggleable__content {max-height: 200px;max-width: 100%;overflow: auto;}#sk-container-id-1 input.sk-toggleable__control:checked~label.sk-toggleable__label-arrow:before {content: \"▾\";}#sk-container-id-1 div.sk-estimator input.sk-toggleable__control:checked~label.sk-toggleable__label {background-color: #d4ebff;}#sk-container-id-1 div.sk-label input.sk-toggleable__control:checked~label.sk-toggleable__label {background-color: #d4ebff;}#sk-container-id-1 input.sk-hidden--visually {border: 0;clip: rect(1px 1px 1px 1px);clip: rect(1px, 1px, 1px, 1px);height: 1px;margin: -1px;overflow: hidden;padding: 0;position: absolute;width: 1px;}#sk-container-id-1 div.sk-estimator {font-family: monospace;background-color: #f0f8ff;border: 1px dotted black;border-radius: 0.25em;box-sizing: border-box;margin-bottom: 0.5em;}#sk-container-id-1 div.sk-estimator:hover {background-color: #d4ebff;}#sk-container-id-1 div.sk-parallel-item::after {content: \"\";width: 100%;border-bottom: 1px solid gray;flex-grow: 1;}#sk-container-id-1 div.sk-label:hover label.sk-toggleable__label {background-color: #d4ebff;}#sk-container-id-1 div.sk-serial::before {content: \"\";position: absolute;border-left: 1px solid gray;box-sizing: border-box;top: 0;bottom: 0;left: 50%;z-index: 0;}#sk-container-id-1 div.sk-serial {display: flex;flex-direction: column;align-items: center;background-color: white;padding-right: 0.2em;padding-left: 0.2em;position: relative;}#sk-container-id-1 div.sk-item {position: relative;z-index: 1;}#sk-container-id-1 div.sk-parallel {display: flex;align-items: stretch;justify-content: center;background-color: white;position: relative;}#sk-container-id-1 div.sk-item::before, #sk-container-id-1 div.sk-parallel-item::before {content: \"\";position: absolute;border-left: 1px solid gray;box-sizing: border-box;top: 0;bottom: 0;left: 50%;z-index: -1;}#sk-container-id-1 div.sk-parallel-item {display: flex;flex-direction: column;z-index: 1;position: relative;background-color: white;}#sk-container-id-1 div.sk-parallel-item:first-child::after {align-self: flex-end;width: 50%;}#sk-container-id-1 div.sk-parallel-item:last-child::after {align-self: flex-start;width: 50%;}#sk-container-id-1 div.sk-parallel-item:only-child::after {width: 0;}#sk-container-id-1 div.sk-dashed-wrapped {border: 1px dashed gray;margin: 0 0.4em 0.5em 0.4em;box-sizing: border-box;padding-bottom: 0.4em;background-color: white;}#sk-container-id-1 div.sk-label label {font-family: monospace;font-weight: bold;display: inline-block;line-height: 1.2em;}#sk-container-id-1 div.sk-label-container {text-align: center;}#sk-container-id-1 div.sk-container {/* jupyter's `normalize.less` sets `[hidden] { display: none; }` but bootstrap.min.css set `[hidden] { display: none !important; }` so we also need the `!important` here to be able to override the default hidden behavior on the sphinx rendered scikit-learn.org. See: https://github.com/scikit-learn/scikit-learn/issues/21755 */display: inline-block !important;position: relative;}#sk-container-id-1 div.sk-text-repr-fallback {display: none;}</style><div id=\"sk-container-id-1\" class=\"sk-top-container\"><div class=\"sk-text-repr-fallback\"><pre>LogisticRegression(max_iter=10000)</pre><b>In a Jupyter environment, please rerun this cell to show the HTML representation or trust the notebook. <br />On GitHub, the HTML representation is unable to render, please try loading this page with nbviewer.org.</b></div><div class=\"sk-container\" hidden><div class=\"sk-item\"><div class=\"sk-estimator sk-toggleable\"><input class=\"sk-toggleable__control sk-hidden--visually\" id=\"sk-estimator-id-1\" type=\"checkbox\" checked><label for=\"sk-estimator-id-1\" class=\"sk-toggleable__label sk-toggleable__label-arrow\">LogisticRegression</label><div class=\"sk-toggleable__content\"><pre>LogisticRegression(max_iter=10000)</pre></div></div></div></div></div>"
            ]
          },
          "metadata": {},
          "execution_count": 13
        }
      ]
    },
    {
      "cell_type": "markdown",
      "source": [
        "# 9. Make Predictions and Evaluate"
      ],
      "metadata": {
        "id": "0BTSkmPn5XaW"
      }
    },
    {
      "cell_type": "code",
      "source": [
        "# The trained classifier is used to make predictions on the test data, and the accuracy of the model is calculated using accuracy_score.\n",
        "rbf_test = calculate_rbf(X_test, centers, rbf_gamma)\n",
        "\n",
        "y_pred = clf.predict(rbf_test)\n",
        "accuracy = accuracy_score(y_test, y_pred)\n",
        "print(f\"Accuracy: {accuracy * 100:.2f}%\")"
      ],
      "metadata": {
        "id": "3-tNh0A55dem",
        "colab": {
          "base_uri": "https://localhost:8080/"
        },
        "outputId": "7ce00e58-c77a-4114-ed94-e227e0c0b761"
      },
      "execution_count": 14,
      "outputs": [
        {
          "output_type": "stream",
          "name": "stdout",
          "text": [
            "Accuracy: 38.89%\n"
          ]
        }
      ]
    }
  ]
}