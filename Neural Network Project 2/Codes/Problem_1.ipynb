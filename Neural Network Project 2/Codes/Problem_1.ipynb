{
  "nbformat": 4,
  "nbformat_minor": 0,
  "metadata": {
    "colab": {
      "provenance": []
    },
    "kernelspec": {
      "name": "python3",
      "display_name": "Python 3"
    },
    "language_info": {
      "name": "python"
    }
  },
  "cells": [
    {
      "cell_type": "code",
      "execution_count": 2,
      "metadata": {
        "colab": {
          "base_uri": "https://localhost:8080/"
        },
        "id": "bkUVBVApXsry",
        "outputId": "3a07c822-4bf2-4cbb-e24c-d23dd39a47c8"
      },
      "outputs": [
        {
          "output_type": "stream",
          "name": "stdout",
          "text": [
            "Updated weights:\n",
            "[[0.28863352 0.74224169 0.4322548  0.96053486 0.56875107]\n",
            " [0.42137561 0.11296762 0.17144606 0.00434254 0.47792316]\n",
            " [0.07344077 0.82594235 0.46414741 0.65923049 0.06806304]\n",
            " [0.58769323 0.91383354 0.81755066 0.41685572 0.28641238]\n",
            " [0.23149403 0.39156096 0.84377349 0.67293777 0.23693431]]\n"
          ]
        }
      ],
      "source": [
        "import numpy as np\n",
        "\n",
        "# Function to calculate Euclidean distance\n",
        "def euclidean_distance(x, y):\n",
        "    return np.sqrt(np.sum((x - y)**2))\n",
        "\n",
        "# Function to calculate the neighborhood function\n",
        "def neighborhood_function(distance, sigma):\n",
        "    return np.exp(-distance**2 / (2 * sigma**2))\n",
        "\n",
        "# Function to update weights\n",
        "def update_weights(old_weight, target_weight, alpha, neighborhood_effect):\n",
        "    return old_weight + alpha * neighborhood_effect * (target_weight - old_weight)\n",
        "\n",
        "# Define parameters\n",
        "alpha = 0.1\n",
        "sigma = 2\n",
        "target_neuron = (3, 3)\n",
        "neighborhood_size = 2\n",
        "\n",
        "# Initialize the SOM weights (assuming they are already converged)\n",
        "som_weights = np.random.random((5, 5))\n",
        "\n",
        "# Calculate the effect of the neighborhood function for each mode\n",
        "for i in range(max(0, target_neuron[0] - neighborhood_size), min(5, target_neuron[0] + neighborhood_size + 1)):\n",
        "    for j in range(max(0, target_neuron[1] - neighborhood_size), min(5, target_neuron[1] + neighborhood_size + 1)):\n",
        "        distance = euclidean_distance(np.array([i, j]), np.array(target_neuron))\n",
        "        neighborhood_effect = neighborhood_function(distance, sigma)\n",
        "        som_weights[target_neuron[0], target_neuron[1]] = update_weights(\n",
        "            som_weights[target_neuron[0], target_neuron[1]],\n",
        "            som_weights[i, j],\n",
        "            alpha,\n",
        "            neighborhood_effect\n",
        "        )\n",
        "\n",
        "# Print the updated weights\n",
        "print(\"Updated weights:\")\n",
        "print(som_weights)\n"
      ]
    }
  ]
}